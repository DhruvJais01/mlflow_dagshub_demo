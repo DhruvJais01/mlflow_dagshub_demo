{
 "cells": [
  {
   "cell_type": "markdown",
   "id": "20086d7c",
   "metadata": {},
   "source": [
    "<h2 align='center'>Codebasics ML Course: ML Flow Tutorial</h2>\n"
   ]
  },
  {
   "cell_type": "code",
   "execution_count": 1,
   "id": "2134f63a",
   "metadata": {},
   "outputs": [],
   "source": [
    "import numpy as np\n",
    "from sklearn.datasets import make_classification\n",
    "from sklearn.model_selection import train_test_split\n",
    "from sklearn.linear_model import LogisticRegression\n",
    "from sklearn.ensemble import RandomForestClassifier\n",
    "from xgboost import XGBClassifier\n",
    "from sklearn.metrics import classification_report\n",
    "import warnings\n",
    "\n",
    "warnings.filterwarnings(\"ignore\")\n"
   ]
  },
  {
   "cell_type": "code",
   "execution_count": 2,
   "id": "8a467445",
   "metadata": {},
   "outputs": [
    {
     "data": {
      "text/plain": [
       "(array([0, 1]), array([900, 100], dtype=int64))"
      ]
     },
     "execution_count": 2,
     "metadata": {},
     "output_type": "execute_result"
    }
   ],
   "source": [
    "# Step 1: Create an imbalanced binary classification dataset\n",
    "X, y = make_classification(\n",
    "    n_samples=1000,\n",
    "    n_features=10,\n",
    "    n_informative=2,\n",
    "    n_redundant=8,\n",
    "    weights=[0.9, 0.1],\n",
    "    flip_y=0,\n",
    "    random_state=42,\n",
    ")\n",
    "\n",
    "np.unique(y, return_counts=True)\n"
   ]
  },
  {
   "cell_type": "code",
   "execution_count": 3,
   "id": "7fc473ad",
   "metadata": {},
   "outputs": [],
   "source": [
    "# Split the dataset into training and testing sets\n",
    "X_train, X_test, y_train, y_test = train_test_split(\n",
    "    X, y, test_size=0.3, stratify=y, random_state=42\n",
    ")\n"
   ]
  },
  {
   "cell_type": "markdown",
   "id": "ce174acd",
   "metadata": {},
   "source": [
    "#### Handle class imbalance\n"
   ]
  },
  {
   "cell_type": "code",
   "execution_count": 4,
   "id": "0c6d768a",
   "metadata": {},
   "outputs": [
    {
     "data": {
      "text/plain": [
       "(array([-5.51207083, -5.14120195, -4.69421946, ...,  5.84871724,\n",
       "         5.91086505,  6.02415826]),\n",
       " array([1, 1, 1, ..., 1, 1, 1], dtype=int64))"
      ]
     },
     "execution_count": 4,
     "metadata": {},
     "output_type": "execute_result"
    }
   ],
   "source": [
    "from imblearn.combine import SMOTETomek\n",
    "\n",
    "smt = SMOTETomek(random_state=42)\n",
    "X_train_res, y_train_res = smt.fit_resample(X_train, y_train)\n",
    "np.unique(X_train_res, return_counts=True)\n"
   ]
  },
  {
   "cell_type": "markdown",
   "id": "f04a52b2",
   "metadata": {},
   "source": [
    "### Track Experiments\n"
   ]
  },
  {
   "cell_type": "code",
   "execution_count": 5,
   "id": "82fdaf1c",
   "metadata": {},
   "outputs": [],
   "source": [
    "models = [\n",
    "    (\n",
    "        \"Logistic Regression\",\n",
    "        {\"C\": 1, \"solver\": \"liblinear\"},\n",
    "        LogisticRegression(),\n",
    "        (X_train, y_train),\n",
    "        (X_test, y_test),\n",
    "    ),\n",
    "    (\n",
    "        \"Random Forest\",\n",
    "        {\"n_estimators\": 30, \"max_depth\": 3},\n",
    "        RandomForestClassifier(),\n",
    "        (X_train, y_train),\n",
    "        (X_test, y_test),\n",
    "    ),\n",
    "    (\n",
    "        \"XGBClassifier\",\n",
    "        {\"use_label_encoder\": False, \"eval_metric\": \"logloss\"},\n",
    "        XGBClassifier(),\n",
    "        (X_train, y_train),\n",
    "        (X_test, y_test),\n",
    "    ),\n",
    "    (\n",
    "        \"XGBClassifier With SMOTE\",\n",
    "        {\"use_label_encoder\": False, \"eval_metric\": \"logloss\"},\n",
    "        XGBClassifier(),\n",
    "        (X_train_res, y_train_res),\n",
    "        (X_test, y_test),\n",
    "    ),\n",
    "]\n"
   ]
  },
  {
   "cell_type": "code",
   "execution_count": 6,
   "id": "13a992c3",
   "metadata": {},
   "outputs": [],
   "source": [
    "reports = []\n",
    "\n",
    "for model_name, params, model, train_set, test_set in models:\n",
    "    X_train = train_set[0]\n",
    "    y_train = train_set[1]\n",
    "    X_test = test_set[0]\n",
    "    y_test = test_set[1]\n",
    "\n",
    "    model.set_params(**params)\n",
    "    model.fit(X_train, y_train)\n",
    "    y_pred = model.predict(X_test)\n",
    "    report = classification_report(y_test, y_pred, output_dict=True)\n",
    "    reports.append(report)\n"
   ]
  },
  {
   "cell_type": "code",
   "execution_count": 7,
   "id": "d9301bc0",
   "metadata": {},
   "outputs": [],
   "source": [
    "import mlflow\n",
    "import mlflow.sklearn\n",
    "import mlflow.xgboost\n"
   ]
  },
  {
   "cell_type": "markdown",
   "id": "69648540",
   "metadata": {},
   "source": [
    "## Dags hub setup\n"
   ]
  },
  {
   "cell_type": "code",
   "execution_count": 10,
   "id": "bcd53415",
   "metadata": {},
   "outputs": [],
   "source": [
    "# # Ideally you will not require following 4 lines if you have started fresh and do not have any previous dagshub credentials on your computer\n",
    "# import os\n",
    "# os.environ['MLFLOW_TRACKING_USERNAME'] = 'your user name' # 'learnpythonlanguage'\n",
    "# os.environ['MLFLOW_TRACKING_PASSWORD'] = 'your password' #\n",
    "# os.environ['MLFLOW_TRACKING_URI'] = 'your dagshub unique uri' # https://dagshub.com/learnpythonlanguage/mlflow_dagshub_demo.mlflow\n"
   ]
  },
  {
   "cell_type": "code",
   "execution_count": null,
   "id": "545c076d",
   "metadata": {},
   "outputs": [
    {
     "name": "stdout",
     "output_type": "stream",
     "text": [
      "Collecting dagshub\n",
      "  Downloading dagshub-0.5.9-py3-none-any.whl.metadata (12 kB)\n",
      "Requirement already satisfied: PyYAML>=5 in c:\\users\\91630\\.conda\\envs\\llm\\lib\\site-packages (from dagshub) (6.0.2)\n",
      "Collecting appdirs>=1.4.4 (from dagshub)\n",
      "  Downloading appdirs-1.4.4-py2.py3-none-any.whl.metadata (9.0 kB)\n",
      "Requirement already satisfied: click>=8.0.4 in c:\\users\\91630\\.conda\\envs\\llm\\lib\\site-packages (from dagshub) (8.1.8)\n",
      "Requirement already satisfied: httpx>=0.23.0 in c:\\users\\91630\\.conda\\envs\\llm\\lib\\site-packages (from dagshub) (0.28.1)\n",
      "Requirement already satisfied: GitPython>=3.1.29 in c:\\users\\91630\\.conda\\envs\\llm\\lib\\site-packages (from dagshub) (3.1.44)\n",
      "Requirement already satisfied: rich>=13.1.0 in c:\\users\\91630\\.conda\\envs\\llm\\lib\\site-packages (from dagshub) (13.9.4)\n",
      "Collecting dacite~=1.6.0 (from dagshub)\n",
      "  Downloading dacite-1.6.0-py3-none-any.whl.metadata (14 kB)\n",
      "Requirement already satisfied: tenacity>=8.2.2 in c:\\users\\91630\\.conda\\envs\\llm\\lib\\site-packages (from dagshub) (9.0.0)\n",
      "Collecting gql[requests] (from dagshub)\n",
      "  Downloading gql-3.5.2-py2.py3-none-any.whl.metadata (9.4 kB)\n",
      "Requirement already satisfied: dataclasses-json in c:\\users\\91630\\.conda\\envs\\llm\\lib\\site-packages (from dagshub) (0.6.7)\n",
      "Requirement already satisfied: pandas in c:\\users\\91630\\.conda\\envs\\llm\\lib\\site-packages (from dagshub) (2.2.3)\n",
      "Collecting treelib>=1.6.4 (from dagshub)\n",
      "  Downloading treelib-1.7.1-py3-none-any.whl.metadata (1.4 kB)\n",
      "Collecting pathvalidate>=3.0.0 (from dagshub)\n",
      "  Downloading pathvalidate-3.2.3-py3-none-any.whl.metadata (12 kB)\n",
      "Requirement already satisfied: python-dateutil in c:\\users\\91630\\.conda\\envs\\llm\\lib\\site-packages (from dagshub) (2.9.0.post0)\n",
      "Collecting boto3 (from dagshub)\n",
      "  Downloading boto3-1.37.23-py3-none-any.whl.metadata (6.7 kB)\n",
      "Collecting semver (from dagshub)\n",
      "  Downloading semver-3.0.4-py3-none-any.whl.metadata (6.8 kB)\n",
      "Collecting dagshub-annotation-converter>=0.1.5 (from dagshub)\n",
      "  Downloading dagshub_annotation_converter-0.1.8-py3-none-any.whl.metadata (2.5 kB)\n",
      "Requirement already satisfied: colorama in c:\\users\\91630\\.conda\\envs\\llm\\lib\\site-packages (from click>=8.0.4->dagshub) (0.4.6)\n",
      "Requirement already satisfied: lxml in c:\\users\\91630\\.conda\\envs\\llm\\lib\\site-packages (from dagshub-annotation-converter>=0.1.5->dagshub) (5.3.1)\n",
      "Requirement already satisfied: pillow in c:\\users\\91630\\.conda\\envs\\llm\\lib\\site-packages (from dagshub-annotation-converter>=0.1.5->dagshub) (11.1.0)\n",
      "Requirement already satisfied: pydantic>=2.0.0 in c:\\users\\91630\\.conda\\envs\\llm\\lib\\site-packages (from dagshub-annotation-converter>=0.1.5->dagshub) (2.10.6)\n",
      "Requirement already satisfied: typing-extensions in c:\\users\\91630\\.conda\\envs\\llm\\lib\\site-packages (from dagshub-annotation-converter>=0.1.5->dagshub) (4.12.2)\n",
      "Requirement already satisfied: gitdb<5,>=4.0.1 in c:\\users\\91630\\.conda\\envs\\llm\\lib\\site-packages (from GitPython>=3.1.29->dagshub) (4.0.12)\n",
      "Requirement already satisfied: anyio in c:\\users\\91630\\.conda\\envs\\llm\\lib\\site-packages (from httpx>=0.23.0->dagshub) (4.8.0)\n",
      "Requirement already satisfied: certifi in c:\\users\\91630\\.conda\\envs\\llm\\lib\\site-packages (from httpx>=0.23.0->dagshub) (2025.1.31)\n",
      "Requirement already satisfied: httpcore==1.* in c:\\users\\91630\\.conda\\envs\\llm\\lib\\site-packages (from httpx>=0.23.0->dagshub) (1.0.7)\n",
      "Requirement already satisfied: idna in c:\\users\\91630\\.conda\\envs\\llm\\lib\\site-packages (from httpx>=0.23.0->dagshub) (3.10)\n",
      "Requirement already satisfied: h11<0.15,>=0.13 in c:\\users\\91630\\.conda\\envs\\llm\\lib\\site-packages (from httpcore==1.*->httpx>=0.23.0->dagshub) (0.14.0)\n",
      "Requirement already satisfied: markdown-it-py>=2.2.0 in c:\\users\\91630\\.conda\\envs\\llm\\lib\\site-packages (from rich>=13.1.0->dagshub) (3.0.0)\n",
      "Requirement already satisfied: pygments<3.0.0,>=2.13.0 in c:\\users\\91630\\.conda\\envs\\llm\\lib\\site-packages (from rich>=13.1.0->dagshub) (2.19.1)\n",
      "Requirement already satisfied: six in c:\\users\\91630\\.conda\\envs\\llm\\lib\\site-packages (from treelib>=1.6.4->dagshub) (1.17.0)\n",
      "Collecting botocore<1.38.0,>=1.37.23 (from boto3->dagshub)\n",
      "  Downloading botocore-1.37.23-py3-none-any.whl.metadata (5.7 kB)\n",
      "Collecting jmespath<2.0.0,>=0.7.1 (from boto3->dagshub)\n",
      "  Downloading jmespath-1.0.1-py3-none-any.whl.metadata (7.6 kB)\n",
      "Collecting s3transfer<0.12.0,>=0.11.0 (from boto3->dagshub)\n",
      "  Downloading s3transfer-0.11.4-py3-none-any.whl.metadata (1.7 kB)\n",
      "Requirement already satisfied: marshmallow<4.0.0,>=3.18.0 in c:\\users\\91630\\.conda\\envs\\llm\\lib\\site-packages (from dataclasses-json->dagshub) (3.26.1)\n",
      "Requirement already satisfied: typing-inspect<1,>=0.4.0 in c:\\users\\91630\\.conda\\envs\\llm\\lib\\site-packages (from dataclasses-json->dagshub) (0.9.0)\n",
      "Collecting graphql-core<3.2.5,>=3.2 (from gql[requests]->dagshub)\n",
      "  Downloading graphql_core-3.2.4-py3-none-any.whl.metadata (10 kB)\n",
      "Requirement already satisfied: yarl<2.0,>=1.6 in c:\\users\\91630\\.conda\\envs\\llm\\lib\\site-packages (from gql[requests]->dagshub) (1.18.3)\n",
      "Requirement already satisfied: backoff<3.0,>=1.11.1 in c:\\users\\91630\\.conda\\envs\\llm\\lib\\site-packages (from gql[requests]->dagshub) (2.2.1)\n",
      "Requirement already satisfied: requests<3,>=2.26 in c:\\users\\91630\\.conda\\envs\\llm\\lib\\site-packages (from gql[requests]->dagshub) (2.32.3)\n",
      "Requirement already satisfied: requests-toolbelt<2,>=1.0.0 in c:\\users\\91630\\.conda\\envs\\llm\\lib\\site-packages (from gql[requests]->dagshub) (1.0.0)\n",
      "Requirement already satisfied: numpy>=1.22.4 in c:\\users\\91630\\.conda\\envs\\llm\\lib\\site-packages (from pandas->dagshub) (1.26.4)\n",
      "Requirement already satisfied: pytz>=2020.1 in c:\\users\\91630\\.conda\\envs\\llm\\lib\\site-packages (from pandas->dagshub) (2024.2)\n",
      "Requirement already satisfied: tzdata>=2022.7 in c:\\users\\91630\\.conda\\envs\\llm\\lib\\site-packages (from pandas->dagshub) (2025.1)\n",
      "Requirement already satisfied: exceptiongroup>=1.0.2 in c:\\users\\91630\\.conda\\envs\\llm\\lib\\site-packages (from anyio->httpx>=0.23.0->dagshub) (1.2.2)\n",
      "Requirement already satisfied: sniffio>=1.1 in c:\\users\\91630\\.conda\\envs\\llm\\lib\\site-packages (from anyio->httpx>=0.23.0->dagshub) (1.3.1)\n",
      "Collecting urllib3<1.27,>=1.25.4 (from botocore<1.38.0,>=1.37.23->boto3->dagshub)\n",
      "  Downloading urllib3-1.26.20-py2.py3-none-any.whl.metadata (50 kB)\n",
      "Requirement already satisfied: smmap<6,>=3.0.1 in c:\\users\\91630\\.conda\\envs\\llm\\lib\\site-packages (from gitdb<5,>=4.0.1->GitPython>=3.1.29->dagshub) (5.0.2)\n",
      "Requirement already satisfied: mdurl~=0.1 in c:\\users\\91630\\.conda\\envs\\llm\\lib\\site-packages (from markdown-it-py>=2.2.0->rich>=13.1.0->dagshub) (0.1.2)\n",
      "Requirement already satisfied: packaging>=17.0 in c:\\users\\91630\\.conda\\envs\\llm\\lib\\site-packages (from marshmallow<4.0.0,>=3.18.0->dataclasses-json->dagshub) (24.2)\n",
      "Requirement already satisfied: annotated-types>=0.6.0 in c:\\users\\91630\\.conda\\envs\\llm\\lib\\site-packages (from pydantic>=2.0.0->dagshub-annotation-converter>=0.1.5->dagshub) (0.7.0)\n",
      "Requirement already satisfied: pydantic-core==2.27.2 in c:\\users\\91630\\.conda\\envs\\llm\\lib\\site-packages (from pydantic>=2.0.0->dagshub-annotation-converter>=0.1.5->dagshub) (2.27.2)\n",
      "Requirement already satisfied: charset-normalizer<4,>=2 in c:\\users\\91630\\.conda\\envs\\llm\\lib\\site-packages (from requests<3,>=2.26->gql[requests]->dagshub) (3.4.1)\n",
      "Requirement already satisfied: mypy-extensions>=0.3.0 in c:\\users\\91630\\.conda\\envs\\llm\\lib\\site-packages (from typing-inspect<1,>=0.4.0->dataclasses-json->dagshub) (1.0.0)\n",
      "Requirement already satisfied: multidict>=4.0 in c:\\users\\91630\\.conda\\envs\\llm\\lib\\site-packages (from yarl<2.0,>=1.6->gql[requests]->dagshub) (6.1.0)\n",
      "Requirement already satisfied: propcache>=0.2.0 in c:\\users\\91630\\.conda\\envs\\llm\\lib\\site-packages (from yarl<2.0,>=1.6->gql[requests]->dagshub) (0.2.1)\n",
      "Downloading dagshub-0.5.9-py3-none-any.whl (260 kB)\n",
      "Downloading appdirs-1.4.4-py2.py3-none-any.whl (9.6 kB)\n",
      "Downloading dacite-1.6.0-py3-none-any.whl (12 kB)\n",
      "Downloading dagshub_annotation_converter-0.1.8-py3-none-any.whl (33 kB)\n",
      "Downloading pathvalidate-3.2.3-py3-none-any.whl (24 kB)\n",
      "Downloading treelib-1.7.1-py3-none-any.whl (19 kB)\n",
      "Downloading boto3-1.37.23-py3-none-any.whl (139 kB)\n",
      "Downloading semver-3.0.4-py3-none-any.whl (17 kB)\n",
      "Downloading botocore-1.37.23-py3-none-any.whl (13.4 MB)\n",
      "   ---------------------------------------- 0.0/13.4 MB ? eta -:--:--\n",
      "   ---------- ----------------------------- 3.7/13.4 MB 19.8 MB/s eta 0:00:01\n",
      "   ------------- -------------------------- 4.5/13.4 MB 12.2 MB/s eta 0:00:01\n",
      "   ---------------- ----------------------- 5.5/13.4 MB 8.8 MB/s eta 0:00:01\n",
      "   ------------------- -------------------- 6.6/13.4 MB 7.7 MB/s eta 0:00:01\n",
      "   ----------------------- ---------------- 7.9/13.4 MB 7.4 MB/s eta 0:00:01\n",
      "   -------------------------- ------------- 8.9/13.4 MB 7.0 MB/s eta 0:00:01\n",
      "   ----------------------------- ---------- 10.0/13.4 MB 6.7 MB/s eta 0:00:01\n",
      "   ------------------------------- -------- 10.7/13.4 MB 6.3 MB/s eta 0:00:01\n",
      "   ---------------------------------- ----- 11.5/13.4 MB 6.2 MB/s eta 0:00:01\n",
      "   -------------------------------------- - 12.8/13.4 MB 6.0 MB/s eta 0:00:01\n",
      "   ---------------------------------------- 13.4/13.4 MB 6.0 MB/s eta 0:00:00\n",
      "Downloading graphql_core-3.2.4-py3-none-any.whl (203 kB)\n",
      "Downloading jmespath-1.0.1-py3-none-any.whl (20 kB)\n",
      "Downloading s3transfer-0.11.4-py3-none-any.whl (84 kB)\n",
      "Downloading gql-3.5.2-py2.py3-none-any.whl (74 kB)\n",
      "Downloading urllib3-1.26.20-py2.py3-none-any.whl (144 kB)\n",
      "Installing collected packages: appdirs, urllib3, treelib, semver, pathvalidate, jmespath, graphql-core, dacite, botocore, s3transfer, gql, dagshub-annotation-converter, boto3, dagshub\n",
      "  Attempting uninstall: urllib3\n",
      "    Found existing installation: urllib3 2.3.0\n",
      "    Uninstalling urllib3-2.3.0:\n",
      "      Successfully uninstalled urllib3-2.3.0\n",
      "  Attempting uninstall: graphql-core\n",
      "    Found existing installation: graphql-core 3.2.6\n",
      "    Uninstalling graphql-core-3.2.6:\n",
      "      Successfully uninstalled graphql-core-3.2.6\n",
      "Successfully installed appdirs-1.4.4 boto3-1.37.23 botocore-1.37.23 dacite-1.6.0 dagshub-0.5.9 dagshub-annotation-converter-0.1.8 gql-3.5.2 graphql-core-3.2.4 jmespath-1.0.1 pathvalidate-3.2.3 s3transfer-0.11.4 semver-3.0.4 treelib-1.7.1 urllib3-1.26.20\n",
      "Note: you may need to restart the kernel to use updated packages.\n"
     ]
    },
    {
     "data": {
      "text/html": [
       "<pre style=\"white-space:pre;overflow-x:auto;line-height:normal;font-family:Menlo,'DejaVu Sans Mono',consolas,'Courier New',monospace\">                                       <span style=\"font-weight: bold\">❗❗❗ AUTHORIZATION REQUIRED ❗❗❗</span>                                        \n",
       "</pre>\n"
      ],
      "text/plain": [
       "                                       \u001b[1m❗❗❗ AUTHORIZATION REQUIRED ❗❗❗\u001b[0m                                        \n"
      ]
     },
     "metadata": {},
     "output_type": "display_data"
    },
    {
     "name": "stdout",
     "output_type": "stream",
     "text": [
      "\n",
      "\n",
      "Open the following link in your browser to authorize the client:\n",
      "https://dagshub.com/login/oauth/authorize?state=05e73365-4bc7-46c2-a0be-576c98365309&client_id=32b60ba385aa7cecf24046d8195a71c07dd345d9657977863b52e7748e0f0f28&middleman_request_id=a86c339ab013427fa3df1ad980200fee2555a8e4886c5f2595f16763e7d813bb\n",
      "\n",
      "\n"
     ]
    },
    {
     "data": {
      "text/html": [
       "<pre style=\"white-space:pre;overflow-x:auto;line-height:normal;font-family:Menlo,'DejaVu Sans Mono',consolas,'Courier New',monospace\"></pre>\n"
      ],
      "text/plain": []
     },
     "metadata": {},
     "output_type": "display_data"
    },
    {
     "data": {
      "text/html": [
       "<pre style=\"white-space:pre;overflow-x:auto;line-height:normal;font-family:Menlo,'DejaVu Sans Mono',consolas,'Courier New',monospace\">Accessing as DhruvJais01\n",
       "</pre>\n"
      ],
      "text/plain": [
       "Accessing as DhruvJais01\n"
      ]
     },
     "metadata": {},
     "output_type": "display_data"
    },
    {
     "data": {
      "text/html": [
       "<pre style=\"white-space:pre;overflow-x:auto;line-height:normal;font-family:Menlo,'DejaVu Sans Mono',consolas,'Courier New',monospace\">Initialized MLflow to track repo <span style=\"color: #008000; text-decoration-color: #008000\">\"DhruvJais01/mlflow_dagshub_demo\"</span>\n",
       "</pre>\n"
      ],
      "text/plain": [
       "Initialized MLflow to track repo \u001b[32m\"DhruvJais01/mlflow_dagshub_demo\"\u001b[0m\n"
      ]
     },
     "metadata": {},
     "output_type": "display_data"
    },
    {
     "data": {
      "text/html": [
       "<pre style=\"white-space:pre;overflow-x:auto;line-height:normal;font-family:Menlo,'DejaVu Sans Mono',consolas,'Courier New',monospace\">Repository DhruvJais01/mlflow_dagshub_demo initialized!\n",
       "</pre>\n"
      ],
      "text/plain": [
       "Repository DhruvJais01/mlflow_dagshub_demo initialized!\n"
      ]
     },
     "metadata": {},
     "output_type": "display_data"
    },
    {
     "name": "stdout",
     "output_type": "stream",
     "text": [
      "🏃 View run welcoming-wolf-263 at: https://dagshub.com/DhruvJais01/mlflow_dagshub_demo.mlflow/#/experiments/0/runs/0ebcdfe24e07499ba6759a60fef1b2f8\n",
      "🧪 View experiment at: https://dagshub.com/DhruvJais01/mlflow_dagshub_demo.mlflow/#/experiments/0\n"
     ]
    }
   ],
   "source": [
    "# %pip install dagshub\n",
    "import dagshub\n",
    "import mlflow\n",
    "\n",
    "dagshub.init(repo_owner=\"DhruvJais01\", repo_name=\"mlflow_dagshub_demo\", mlflow=True)\n",
    "\n",
    "\n",
    "with mlflow.start_run():\n",
    "    mlflow.log_param(\"parameter name\", \"value\")\n",
    "    mlflow.log_metric(\"metric name\", 1)\n"
   ]
  },
  {
   "cell_type": "code",
   "execution_count": 9,
   "id": "9ad9cf4d",
   "metadata": {
    "scrolled": false
   },
   "outputs": [
    {
     "name": "stderr",
     "output_type": "stream",
     "text": [
      "2025/03/29 15:21:52 INFO mlflow.tracking.fluent: Experiment with name 'Anomaly Detection V1' does not exist. Creating a new experiment.\n",
      "2025/03/29 15:22:06 WARNING mlflow.models.model: Model logged without a signature and input example. Please set `input_example` parameter when logging the model to auto infer the model signature.\n"
     ]
    },
    {
     "name": "stdout",
     "output_type": "stream",
     "text": [
      "🏃 View run Logistic Regression at: https://dagshub.com/DhruvJais01/mlflow_dagshub_demo.mlflow/#/experiments/1/runs/c6f54c3ae9914af1a03080fda1d6db7d\n",
      "🧪 View experiment at: https://dagshub.com/DhruvJais01/mlflow_dagshub_demo.mlflow/#/experiments/1\n"
     ]
    },
    {
     "name": "stderr",
     "output_type": "stream",
     "text": [
      "2025/03/29 15:22:16 WARNING mlflow.models.model: Model logged without a signature and input example. Please set `input_example` parameter when logging the model to auto infer the model signature.\n"
     ]
    },
    {
     "name": "stdout",
     "output_type": "stream",
     "text": [
      "🏃 View run Random Forest at: https://dagshub.com/DhruvJais01/mlflow_dagshub_demo.mlflow/#/experiments/1/runs/537d8c2eb5e24f7ba64ad39d82596f82\n",
      "🧪 View experiment at: https://dagshub.com/DhruvJais01/mlflow_dagshub_demo.mlflow/#/experiments/1\n"
     ]
    },
    {
     "name": "stderr",
     "output_type": "stream",
     "text": [
      "2025/03/29 15:22:28 WARNING mlflow.models.model: Model logged without a signature and input example. Please set `input_example` parameter when logging the model to auto infer the model signature.\n"
     ]
    },
    {
     "name": "stdout",
     "output_type": "stream",
     "text": [
      "🏃 View run XGBClassifier at: https://dagshub.com/DhruvJais01/mlflow_dagshub_demo.mlflow/#/experiments/1/runs/5d253fb08a3447fd96a36771e62b4cdd\n",
      "🧪 View experiment at: https://dagshub.com/DhruvJais01/mlflow_dagshub_demo.mlflow/#/experiments/1\n"
     ]
    },
    {
     "name": "stderr",
     "output_type": "stream",
     "text": [
      "2025/03/29 15:22:46 WARNING mlflow.models.model: Model logged without a signature and input example. Please set `input_example` parameter when logging the model to auto infer the model signature.\n"
     ]
    },
    {
     "name": "stdout",
     "output_type": "stream",
     "text": [
      "🏃 View run XGBClassifier With SMOTE at: https://dagshub.com/DhruvJais01/mlflow_dagshub_demo.mlflow/#/experiments/1/runs/1957968b287e4712a0705dd65514257d\n",
      "🧪 View experiment at: https://dagshub.com/DhruvJais01/mlflow_dagshub_demo.mlflow/#/experiments/1\n"
     ]
    }
   ],
   "source": [
    "# Initialize MLflow\n",
    "mlflow.set_experiment(\"Anomaly Detection V1\")\n",
    "# mlflow.set_tracking_uri(\"http://localhost:5000\") not in local\n",
    "mlflow.set_tracking_uri(\"https://dagshub.com/DhruvJais01/mlflow_dagshub_demo.mlflow\")\n",
    "\n",
    "for i, element in enumerate(models):\n",
    "    model_name = element[0]\n",
    "    params = element[1]\n",
    "    model = element[2]\n",
    "    report = reports[i]\n",
    "\n",
    "    with mlflow.start_run(run_name=model_name):\n",
    "        mlflow.log_params(params)\n",
    "        mlflow.log_metrics(\n",
    "            {\n",
    "                \"accuracy\": report[\"accuracy\"],\n",
    "                \"recall_class_1\": report[\"1\"][\"recall\"],\n",
    "                \"recall_class_0\": report[\"0\"][\"recall\"],\n",
    "                \"f1_score_macro\": report[\"macro avg\"][\"f1-score\"],\n",
    "            }\n",
    "        )\n",
    "\n",
    "        if \"XGB\" in model_name:\n",
    "            mlflow.xgboost.log_model(model, \"model\")\n",
    "        else:\n",
    "            mlflow.sklearn.log_model(model, \"model\")\n"
   ]
  },
  {
   "cell_type": "markdown",
   "id": "7446ae8a",
   "metadata": {},
   "source": [
    "### Register the Model\n"
   ]
  },
  {
   "cell_type": "code",
   "execution_count": 11,
   "id": "cc184cac",
   "metadata": {},
   "outputs": [
    {
     "name": "stderr",
     "output_type": "stream",
     "text": [
      "Successfully registered model 'XGB-Smote'.\n",
      "2025/03/29 15:26:00 INFO mlflow.store.model_registry.abstract_store: Waiting up to 300 seconds for model version to finish creation. Model name: XGB-Smote, version 1\n",
      "Created version '1' of model 'XGB-Smote'.\n"
     ]
    },
    {
     "name": "stdout",
     "output_type": "stream",
     "text": [
      "🏃 View run XGBClassifier With SMOTE at: https://dagshub.com/DhruvJais01/mlflow_dagshub_demo.mlflow/#/experiments/1/runs/1957968b287e4712a0705dd65514257d\n",
      "🧪 View experiment at: https://dagshub.com/DhruvJais01/mlflow_dagshub_demo.mlflow/#/experiments/1\n"
     ]
    }
   ],
   "source": [
    "model_name = \"XGB-Smote\"\n",
    "run_id = \"1957968b287e4712a0705dd65514257d\"\n",
    "model_uri = f\"runs:/{run_id}/model\"\n",
    "\n",
    "with mlflow.start_run(run_id=run_id):\n",
    "    mlflow.register_model(model_uri=model_uri, name=model_name)\n"
   ]
  },
  {
   "cell_type": "markdown",
   "id": "c4a9dc65",
   "metadata": {},
   "source": [
    "### Load the Model\n"
   ]
  },
  {
   "cell_type": "code",
   "execution_count": 12,
   "id": "37e3e1ca",
   "metadata": {},
   "outputs": [
    {
     "name": "stderr",
     "output_type": "stream",
     "text": [
      "Downloading artifacts: 100%|██████████| 5/5 [00:00<00:00,  6.13it/s]"
     ]
    },
    {
     "name": "stdout",
     "output_type": "stream",
     "text": [
      "First 4 Predictions: [0 0 0 0]\n"
     ]
    },
    {
     "name": "stderr",
     "output_type": "stream",
     "text": [
      "\n"
     ]
    }
   ],
   "source": [
    "# load directly\n",
    "import mlflow\n",
    "import mlflow.xgboost\n",
    "import pandas as pd\n",
    "\n",
    "# model_uri = \"runs:/3ad3473128104944b04619c6aa2ee69e/model\"\n",
    "\n",
    "# Load model explicitly\n",
    "loaded_model = mlflow.xgboost.load_model(model_uri)\n",
    "\n",
    "# Ensure input_data is correctly formatted\n",
    "input_data = pd.DataFrame(X_test)  # Convert to DataFrame\n",
    "\n",
    "# Make predictions\n",
    "y_pred = loaded_model.predict(input_data)\n",
    "print(\"First 4 Predictions:\", y_pred[:4])\n"
   ]
  },
  {
   "cell_type": "code",
   "execution_count": 13,
   "id": "2d2d0974",
   "metadata": {},
   "outputs": [
    {
     "name": "stderr",
     "output_type": "stream",
     "text": [
      "Downloading artifacts: 100%|██████████| 5/5 [00:00<00:00,  9.51it/s]\n"
     ]
    },
    {
     "data": {
      "text/plain": [
       "array([0, 0, 0, 0])"
      ]
     },
     "execution_count": 13,
     "metadata": {},
     "output_type": "execute_result"
    }
   ],
   "source": [
    "# load with version\n",
    "model_version = 1\n",
    "model_uri = f\"models:/{model_name}/{model_version}\"\n",
    "\n",
    "loaded_model = mlflow.xgboost.load_model(model_uri)\n",
    "y_pred = loaded_model.predict(X_test)\n",
    "y_pred[:4]\n"
   ]
  },
  {
   "cell_type": "code",
   "execution_count": 14,
   "id": "598d64db",
   "metadata": {},
   "outputs": [
    {
     "name": "stderr",
     "output_type": "stream",
     "text": [
      "Downloading artifacts: 100%|██████████| 5/5 [00:00<00:00,  7.98it/s]\n"
     ]
    },
    {
     "data": {
      "text/plain": [
       "array([0, 0, 0, 0])"
      ]
     },
     "execution_count": 14,
     "metadata": {},
     "output_type": "execute_result"
    }
   ],
   "source": [
    "# load with alias\n",
    "model_uri = f\"models:/{model_name}@challanger\"\n",
    "\n",
    "loaded_model = mlflow.xgboost.load_model(model_uri)\n",
    "y_pred = loaded_model.predict(X_test)\n",
    "y_pred[:4]\n"
   ]
  },
  {
   "cell_type": "markdown",
   "id": "5f8d2893",
   "metadata": {},
   "source": [
    "### Transition the Model to Production\n"
   ]
  },
  {
   "cell_type": "code",
   "execution_count": 15,
   "id": "9c8ac1e3",
   "metadata": {
    "scrolled": true
   },
   "outputs": [
    {
     "name": "stderr",
     "output_type": "stream",
     "text": [
      "Successfully registered model 'anomaly-detection-prod'.\n",
      "Copied version '1' of model 'XGB-Smote' to version '1' of model 'anomaly-detection-prod'.\n"
     ]
    },
    {
     "data": {
      "text/plain": [
       "<ModelVersion: aliases=[], creation_timestamp=1743242228609, current_stage='None', description='', last_updated_timestamp=1743242228609, name='anomaly-detection-prod', run_id='1957968b287e4712a0705dd65514257d', run_link='', source='models:/XGB-Smote/1', status='READY', status_message=None, tags={}, user_id='', version='1'>"
      ]
     },
     "execution_count": 15,
     "metadata": {},
     "output_type": "execute_result"
    }
   ],
   "source": [
    "current_model_uri = f\"models:/{model_name}@challanger\"\n",
    "production_model_name = \"anomaly-detection-prod\"\n",
    "\n",
    "client = mlflow.MlflowClient()\n",
    "client.copy_model_version(\n",
    "    src_model_uri=current_model_uri, dst_name=production_model_name\n",
    ")\n"
   ]
  },
  {
   "cell_type": "markdown",
   "id": "41ccabde",
   "metadata": {},
   "source": [
    "## Loading Production Model\n"
   ]
  },
  {
   "cell_type": "code",
   "execution_count": 16,
   "id": "4297a2fe",
   "metadata": {},
   "outputs": [
    {
     "name": "stderr",
     "output_type": "stream",
     "text": [
      "Downloading artifacts: 100%|██████████| 5/5 [00:00<00:00,  9.67it/s]\n"
     ]
    },
    {
     "data": {
      "text/plain": [
       "array([0, 0, 0, 0])"
      ]
     },
     "execution_count": 16,
     "metadata": {},
     "output_type": "execute_result"
    }
   ],
   "source": [
    "model_version = 1\n",
    "prod_model_uri = f\"models:/{production_model_name}@champion\"\n",
    "\n",
    "loaded_model = mlflow.xgboost.load_model(prod_model_uri)\n",
    "y_pred = loaded_model.predict(X_test)\n",
    "y_pred[:4]\n"
   ]
  },
  {
   "cell_type": "markdown",
   "id": "ca565a87",
   "metadata": {},
   "source": [
    "Please refer to following to learn more about model registry\n",
    "\n",
    "https://mlflow.org/docs/latest/model-registry.html#model-registry-workflows to learn\n"
   ]
  },
  {
   "cell_type": "markdown",
   "id": "1671d0f9",
   "metadata": {},
   "source": []
  }
 ],
 "metadata": {
  "kernelspec": {
   "display_name": "llm",
   "language": "python",
   "name": "python3"
  },
  "language_info": {
   "codemirror_mode": {
    "name": "ipython",
    "version": 3
   },
   "file_extension": ".py",
   "mimetype": "text/x-python",
   "name": "python",
   "nbconvert_exporter": "python",
   "pygments_lexer": "ipython3",
   "version": "3.9.21"
  }
 },
 "nbformat": 4,
 "nbformat_minor": 5
}
